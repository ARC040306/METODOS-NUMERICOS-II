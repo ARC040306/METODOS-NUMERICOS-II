{
  "nbformat": 4,
  "nbformat_minor": 0,
  "metadata": {
    "colab": {
      "provenance": [],
      "authorship_tag": "ABX9TyNzmq7BpMkdptP3Cy2OXeou",
      "include_colab_link": true
    },
    "kernelspec": {
      "name": "python3",
      "display_name": "Python 3"
    },
    "language_info": {
      "name": "python"
    }
  },
  "cells": [
    {
      "cell_type": "markdown",
      "metadata": {
        "id": "view-in-github",
        "colab_type": "text"
      },
      "source": [
        "<a href=\"https://colab.research.google.com/github/ARC040306/METODOS-NUMERICOS-II/blob/main/Riemman_2.ipynb\" target=\"_parent\"><img src=\"https://colab.research.google.com/assets/colab-badge.svg\" alt=\"Open In Colab\"/></a>"
      ]
    },
    {
      "cell_type": "code",
      "execution_count": 13,
      "metadata": {
        "colab": {
          "base_uri": "https://localhost:8080/"
        },
        "id": "iapiH2TF5pPP",
        "outputId": "d82dcb74-b858-46e9-c594-c28d2e0e443a"
      },
      "outputs": [
        {
          "output_type": "stream",
          "name": "stdout",
          "text": [
            "Ingrese el extremo izquierdo del intervalo: 2\n",
            "Ingrese el extremo derecho del intervalo: 4\n",
            "Ingrese el valor de n: 5\n",
            "Ingresa el polinomio (ejemplo: x*3 - 2*x**2 + 7*x - 5): x**2\n",
            "Este es L: 16.3200000000000\n",
            "Este es R: 21.1200000000000\n"
          ]
        }
      ],
      "source": [
        "#Programa del método Riemman sin vectores ni \"def's\"\n",
        "from sympy import*\n",
        "\n",
        "suml = 0\n",
        "sumr = 0\n",
        "\n",
        "a = int(input(\"Ingrese el extremo izquierdo del intervalo: \"))\n",
        "b = int(input(\"Ingrese el extremo derecho del intervalo: \"))\n",
        "n = int(input(\"Ingrese el valor de n: \"))\n",
        "l = (b-a) / n\n",
        "\n",
        "# Función para ingresar el polinomio\n",
        "polinomio = input(\"Ingresa el polinomio (ejemplo: x*3 - 2*x**2 + 7*x - 5): \")\n",
        "\n",
        "x = symbols('x')\n",
        "polinomio_evaluado = sympify(polinomio) #transformamos el texto en \"polinomio\"\n",
        "for i in range(n):\n",
        "  suml = suml + polinomio_evaluado.subs(x, a) #aqui cambiamos \"i\" por \"a\" dado que buscamos evaluar el polinomio en los valores x_n del vector de la versión 1\n",
        "  sumr = sumr + polinomio_evaluado.subs(x, a+l)\n",
        "  a = a + l\n",
        "\n",
        "L = suml * l\n",
        "R = sumr * l\n",
        "print(f\"Este es L: {L}\")\n",
        "print(f\"Este es R: {R}\")\n",
        "\n",
        "\n"
      ]
    }
  ]
}
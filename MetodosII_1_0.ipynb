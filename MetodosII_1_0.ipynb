{
  "nbformat": 4,
  "nbformat_minor": 0,
  "metadata": {
    "colab": {
      "provenance": [],
      "authorship_tag": "ABX9TyP2AtOQ568OKuN8kXBwAM4N",
      "include_colab_link": true
    },
    "kernelspec": {
      "name": "python3",
      "display_name": "Python 3"
    },
    "language_info": {
      "name": "python"
    }
  },
  "cells": [
    {
      "cell_type": "markdown",
      "metadata": {
        "id": "view-in-github",
        "colab_type": "text"
      },
      "source": [
        "<a href=\"https://colab.research.google.com/github/ARC040306/METODOS-NUMERICOS-II/blob/main/MetodosII_1_0.ipynb\" target=\"_parent\"><img src=\"https://colab.research.google.com/assets/colab-badge.svg\" alt=\"Open In Colab\"/></a>"
      ]
    },
    {
      "cell_type": "code",
      "execution_count": null,
      "metadata": {
        "id": "-oB2ucm4DZ6i"
      },
      "outputs": [],
      "source": [
        "# En este ejercicio estaremos haciendo un programa acerca de aproximar el valor de una integral en la partición canónica sin usar infimos o supremos con n= variable dado por el usuario\n",
        "# Para ello necesitamos:\n",
        "# - Integral con intervalo\n",
        "# - valor de n"
      ]
    },
    {
      "cell_type": "code",
      "source": [
        "from sympy import*\n",
        "\n",
        "# Función para ingresar el polinomio\n",
        "def ingresar_polinomio():\n",
        "    # Ingresar el polinomio como una cadena de texto\n",
        "    polinomio = input(\"Ingresa el polinomio (ejemplo: x*3 - 2*x**2 + 7*x - 5): \")\n",
        "    return polinomio\n",
        "\n",
        "def evaluar_polinomio(ingresar_i, ingresar_p):\n",
        "    x = symbols('x')\n",
        "    polinomio = sympify(ingresar_p)\n",
        "\n",
        "    # Evaluar el polinomio en los puntos proporcionados\n",
        "    resultados = []\n",
        "    for i in ingresar_i:\n",
        "        valor = polinomio.subs(x, i)\n",
        "        resultados.append(valor)\n",
        "\n",
        "    return resultados\n",
        "\n",
        "def encontrando_L(l,p_evaluado):\n",
        "  L = 0\n",
        "  for i in range(len(p_evaluado) - 1):\n",
        "    L = L + p_evaluado[i] # aquí estoy accediendo a los números de mi lista en la posición de \"i\"\n",
        "  L_encontrado = l * L\n",
        "  return L_encontrado\n",
        "\n",
        "def encontrando_U(l, p_evaluado):\n",
        "  U = 0\n",
        "  for i in p_evaluado[1: ]: # empiezo a trabajar desde el indice 1 o segunda posición\n",
        "    U = U + i\n",
        "  U_encontrado = l * U\n",
        "  return U_encontrado\n",
        "\n",
        "\n",
        "\n",
        "def main():\n",
        "\n",
        "  b = int(input(\"Ingrese el extremo derecho del intervalo: \"))\n",
        "  a = int(input(\"Ingrese el extremo izquiero del intervalo: \"))\n",
        "  n = int(input(\"Ingrese el valor de n: \"))\n",
        "  l = (b - a) / n\n",
        "  x_n = []\n",
        "  x_n.append(a)\n",
        "  x = a\n",
        "  for i in range(n):\n",
        "    x = l + x\n",
        "    x_n.append(x)\n",
        "\n",
        "  ingresar_p = ingresar_polinomio()\n",
        "\n",
        "  evaluar_p = evaluar_polinomio(x_n, ingresar_p)\n",
        "\n",
        "  enc_L = encontrando_L(l, evaluar_p)\n",
        "  enc_U = encontrando_U(l, evaluar_p)\n",
        "\n",
        "  print(f\"\\nEsta es la lista de las x_n: \\n{x_n}\")\n",
        "\n",
        "  print(f\"\\nEste es el polinomio a evaluar: \\n{ingresar_p}\")\n",
        "\n",
        "  print(f\"\\nEste es el polinomio evaluado: \\n{evaluar_p}\")\n",
        "\n",
        "  print(f\"\\nEste es el valor de L: {enc_L}\")\n",
        "\n",
        "  print(f\"\\nEste es el valor de U: {enc_U}\")\n",
        "\n",
        "main()"
      ],
      "metadata": {
        "colab": {
          "base_uri": "https://localhost:8080/"
        },
        "id": "DMtCmHPqEzLU",
        "outputId": "05e1069a-941e-4df6-d236-874c7d56fb48"
      },
      "execution_count": null,
      "outputs": [
        {
          "output_type": "stream",
          "name": "stdout",
          "text": [
            "Ingrese el extremo derecho del intervalo: 4\n",
            "Ingrese el extremo izquiero del intervalo: 2\n",
            "Ingrese el valor de n: 5\n",
            "Ingresa el polinomio (ejemplo: x*3 - 2*x**2 + 7*x - 5): x**2\n",
            "\n",
            "Esta es la lista de las x_n: \n",
            "[2, 2.4, 2.8, 3.1999999999999997, 3.5999999999999996, 3.9999999999999996]\n",
            "\n",
            "Este es el polinomio a evaluar: \n",
            "x**2\n",
            "\n",
            "Este es el polinomio evaluado: \n",
            "[4, 5.76000000000000, 7.84000000000000, 10.2400000000000, 12.9600000000000, 16.0000000000000]\n",
            "\n",
            "Este es el valor de L: 16.3200000000000\n",
            "\n",
            "Este es el valor de U: 21.1200000000000\n"
          ]
        }
      ]
    }
  ]
}
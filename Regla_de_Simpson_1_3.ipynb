{
  "nbformat": 4,
  "nbformat_minor": 0,
  "metadata": {
    "colab": {
      "provenance": [],
      "authorship_tag": "ABX9TyNavLIBQbc9KyliMbi9KIyu",
      "include_colab_link": true
    },
    "kernelspec": {
      "name": "python3",
      "display_name": "Python 3"
    },
    "language_info": {
      "name": "python"
    }
  },
  "cells": [
    {
      "cell_type": "markdown",
      "metadata": {
        "id": "view-in-github",
        "colab_type": "text"
      },
      "source": [
        "<a href=\"https://colab.research.google.com/github/ARC040306/METODOS-NUMERICOS-II/blob/main/Regla_de_Simpson_1_3.ipynb\" target=\"_parent\"><img src=\"https://colab.research.google.com/assets/colab-badge.svg\" alt=\"Open In Colab\"/></a>"
      ]
    },
    {
      "cell_type": "code",
      "execution_count": 6,
      "metadata": {
        "colab": {
          "base_uri": "https://localhost:8080/"
        },
        "id": "frsOpr2jCMne",
        "outputId": "0b550560-f606-4d26-b37c-6e05fbb25f05"
      },
      "outputs": [
        {
          "output_type": "stream",
          "name": "stdout",
          "text": [
            "Ingrese el extremo izquierdo del intervalo: 2\n",
            "Ingrese el extremo derecho del intervalo: 4\n",
            "Ingrese el total de intervalos (par): 5\n",
            "Ingrese el polinomio (ejemplo: x**3 - 2*x**2 + 7*x - 5): x**2\n",
            "Este es el valor de I: 6.42133333333333\n"
          ]
        }
      ],
      "source": [
        "#Programa acerca de la regla 1/3 de Simpson (recordar que solo es una, en esta ocasión no hay canónica)\n",
        "\n",
        "from sympy import*\n",
        "\n",
        "a = int(input(\"Ingrese el extremo izquierdo del intervalo: \"))\n",
        "b = int(input(\"Ingrese el extremo derecho del intervalo: \"))\n",
        "n = int(input(\"Ingrese el total de intervalos (par): \"))\n",
        "l = (b-a) / n\n",
        "\n",
        "#ingresando el polinomio\n",
        "pol = input(\"Ingrese el polinomio (ejemplo: x**3 - 2*x**2 + 7*x - 5): \")\n",
        "x = symbols('x')\n",
        "polinomio = sympify(pol)\n",
        "suma = polinomio.subs(x,a) + polinomio.subs(x,b)\n",
        "for i in range(1, n):\n",
        "  if i%2 == 0:\n",
        "    suma += 2 * polinomio.subs(x, a+i* l)\n",
        "  else:\n",
        "    suma += 4 * polinomio.subs(x, a+i* l)\n",
        "I = suma * (l/3)\n",
        "print(f\"Este es el valor de I: {I}\")"
      ]
    }
  ]
}